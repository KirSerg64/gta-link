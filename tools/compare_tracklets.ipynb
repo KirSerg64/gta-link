{
 "cells": [
  {
   "cell_type": "markdown",
   "metadata": {},
   "source": [
    "### This script compare tracklet objects produced by generate_tracklets.py and tracklets obtained from DeepEIoU tracker.\n",
    "### Comparison is mainly about structure of the tracklet objects and filed array dimension."
   ]
  },
  {
   "cell_type": "code",
   "execution_count": 19,
   "metadata": {},
   "outputs": [],
   "source": [
    "import numpy as np\n",
    "import pickle\n",
    "import os"
   ]
  },
  {
   "cell_type": "code",
   "execution_count": 20,
   "metadata": {},
   "outputs": [],
   "source": [
    "class Tracklet:\n",
    "    def __init__(self, track_id, frame, score, bbox, feat=None):\n",
    "        # frame (float), score (float), bbox (list(4))\n",
    "        self.track_id = track_id\n",
    "        self.scores = [score]\n",
    "        self.times = [frame]\n",
    "        self.bboxes = [bbox]\n",
    "        self.features = [] if feat is None else [feat]\n",
    "\n",
    "    def append_det(self, frame, score, bbox):\n",
    "        # frame (float), score (float), bbox (list(4))\n",
    "        self.scores.append(score)\n",
    "        self.times.append(frame)\n",
    "        self.bboxes.append(bbox)\n",
    "\n",
    "    def append_feat(self, feat):\n",
    "        # feat (numpy array)\n",
    "        self.features.append(feat)"
   ]
  },
  {
   "cell_type": "code",
   "execution_count": 21,
   "metadata": {},
   "outputs": [
    {
     "name": "stdout",
     "output_type": "stream",
     "text": [
      "<class 'collections.defaultdict'>\n",
      "1\n",
      "308\n",
      "308\n",
      "(308, 512)\n"
     ]
    }
   ],
   "source": [
    "# Load a tracklet file for a SportsMOT sequence\n",
    "sports_trklets_path = r\"C:\\Users\\Ciel Sun\\OneDrive - UW\\EE 599\\DeepEIoU\\deep-eiou-tmp\\Tracklets\\v_1UDUODIBSsc_c001.pkl\"\n",
    "with open(sports_trklets_path, 'rb') as pkl_f:\n",
    "    sports_tid2track = pickle.load(pkl_f)\n",
    "\n",
    "print(type(sports_tid2track))\n",
    "for i, (track_id, strack) in enumerate(sports_tid2track.items()):\n",
    "    print(track_id)\n",
    "    print(len(strack.times))\n",
    "    print(len(strack.bboxes))\n",
    "    print(np.array(strack.features).shape)\n",
    "    break\n",
    "\n"
   ]
  },
  {
   "cell_type": "code",
   "execution_count": 23,
   "metadata": {},
   "outputs": [
    {
     "name": "stdout",
     "output_type": "stream",
     "text": [
      "<class 'dict'>\n",
      "1.0\n",
      "176\n",
      "176\n",
      "(176, 512)\n"
     ]
    }
   ],
   "source": [
    "# Load a tracklet file for a SoccerNet sequence\n",
    "soccer_trklets_path = r\"C:\\Users\\Ciel Sun\\OneDrive - UW\\EE 599\\SoccerNet\\tracking-2023\\test_Seq_Tracklets\\SNMOT-116.pkl\"\n",
    "with open(soccer_trklets_path, 'rb') as pkl_f:\n",
    "    soccer_tid2track = pickle.load(pkl_f)\n",
    "\n",
    "print(type(soccer_tid2track))\n",
    "for i, (track_id, tracklet) in enumerate(soccer_tid2track.items()):\n",
    "    print(track_id)\n",
    "    print(len(tracklet.times))\n",
    "    print(len(tracklet.bboxes))\n",
    "    print(np.array(tracklet.features).shape)\n",
    "    break"
   ]
  },
  {
   "cell_type": "code",
   "execution_count": 26,
   "metadata": {},
   "outputs": [
    {
     "name": "stdout",
     "output_type": "stream",
     "text": [
      "[[4 5 6]\n",
      " [7 8 9]]\n",
      "tensor([[1, 2, 3],\n",
      "        [4, 5, 6],\n",
      "        [7, 8, 9]], dtype=torch.int32)\n"
     ]
    },
    {
     "data": {
      "text/plain": [
       "4"
      ]
     },
     "execution_count": 26,
     "metadata": {},
     "output_type": "execute_result"
    }
   ],
   "source": [
    "import numpy as np\n",
    "import torch\n",
    "\n",
    "# Example list of numpy arrays\n",
    "array_list = [np.array([1, 2, 3]), np.array([4, 5, 6]), np.array([7, 8, 9])]\n",
    "\n",
    "# Combine the numpy arrays into one array\n",
    "combined_array = np.stack(array_list)\n",
    "\n",
    "labels = np.array([0, 1, 1])\n",
    "print(combined_array[labels == 1])\n",
    "\n",
    "# Convert the numpy array to a PyTorch tensor\n",
    "tensor = torch.from_numpy(combined_array)\n",
    "\n",
    "# Print the tensor\n",
    "print(tensor)\n",
    "\n",
    "\n",
    "a = np.array([[4, 5, 6, 6],  [2, 3, 4, 5]])\n",
    "np.argmin(np.array(a))"
   ]
  },
  {
   "cell_type": "code",
   "execution_count": 27,
   "metadata": {},
   "outputs": [
    {
     "name": "stdout",
     "output_type": "stream",
     "text": [
      "Index of maximum value: (1, 2)\n",
      "True\n"
     ]
    }
   ],
   "source": [
    "array_2d = np.array([[1, 2, 3], [4, 5, 6]])\n",
    "\n",
    "# Find the index of the maximum value\n",
    "max_index_flattened = np.argmax(array_2d)  # This returns the index in the flattened array\n",
    "max_index_2d = np.unravel_index(max_index_flattened, array_2d.shape)  # Convert to a tuple of indices for 2D\n",
    "\n",
    "print(\"Index of maximum value:\", max_index_2d)\n",
    "print(np.any(array_2d > 4))"
   ]
  },
  {
   "cell_type": "code",
   "execution_count": 29,
   "metadata": {},
   "outputs": [
    {
     "data": {
      "text/plain": [
       "array([1., 1., 1., 1., 1., 1., 1., 1., 1., 1., 1., 1.])"
      ]
     },
     "execution_count": 29,
     "metadata": {},
     "output_type": "execute_result"
    }
   ],
   "source": [
    "a = np.ones((4, 4))\n",
    "diagonal_mask = np.eye(a.shape[0], dtype=bool)\n",
    "non_diagonal_mask = ~diagonal_mask\n",
    "a[non_diagonal_mask]"
   ]
  }
 ],
 "metadata": {
  "kernelspec": {
   "display_name": "TrackLink",
   "language": "python",
   "name": "python3"
  },
  "language_info": {
   "codemirror_mode": {
    "name": "ipython",
    "version": 3
   },
   "file_extension": ".py",
   "mimetype": "text/x-python",
   "name": "python",
   "nbconvert_exporter": "python",
   "pygments_lexer": "ipython3",
   "version": "3.8.19"
  }
 },
 "nbformat": 4,
 "nbformat_minor": 2
}
