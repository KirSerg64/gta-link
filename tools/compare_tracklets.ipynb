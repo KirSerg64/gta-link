{
 "cells": [
  {
   "cell_type": "markdown",
   "metadata": {},
   "source": [
    "### This script compare tracklet objects produced by generate_tracklets.py and tracklets obtained from DeepEIoU tracker.\n",
    "### Comparison is mainly about structure of the tracklet objects and filed array dimension."
   ]
  },
  {
   "cell_type": "code",
   "execution_count": 2,
   "metadata": {},
   "outputs": [],
   "source": [
    "import numpy as np\n",
    "import pickle\n",
    "import os"
   ]
  },
  {
   "cell_type": "code",
   "execution_count": 7,
   "metadata": {},
   "outputs": [],
   "source": [
    "\n",
    "class Tracklet:\n",
    "    def __init__(self, track_id=None, frames=None, scores=None, bboxes=None, feats=None):\n",
    "        '''\n",
    "        Initialize the Tracklet with IDs, times, scores, bounding boxes, and optional features.\n",
    "        If parameters are not provided, initializes them to None or empty lists.\n",
    "\n",
    "        Args:\n",
    "            track_id (int, optional): Unique identifier for the track. Defaults to None.\n",
    "            frames (list or int, optional): Frame numbers where the track is present. Can be a list of frames or a single frame. Defaults to None.\n",
    "            scores (list or float, optional): Detection scores corresponding to frames. Can be a list of scores or a single score. Defaults to None.\n",
    "            bboxes (list of lists or list, optional): Bounding boxes corresponding to each frame. Each bounding box is a list of 4 elements. Defaults to None.\n",
    "            feats (list of np.array, optional): Feature vectors corresponding to frames. Each feature should be a numpy array of shape (512,). Defaults to None.\n",
    "        '''\n",
    "        self.track_id = track_id\n",
    "        self.parent_id = None\n",
    "        self.scores = scores if isinstance(scores, list) else [scores] if scores is not None else []\n",
    "        self.times = frames if isinstance(frames, list) else [frames] if frames is not None else []\n",
    "        self.bboxes = bboxes if isinstance(bboxes, list) and bboxes and isinstance(bboxes[0], list) else [bboxes] if bboxes is not None else []\n",
    "        self.features = feats if feats is not None else []\n",
    "\n",
    "    def append_det(self, frame, score, bbox):\n",
    "        '''\n",
    "        Appends a detection to the tracklet.\n",
    "\n",
    "        Args:\n",
    "            frame (int): Frame number for the detection.\n",
    "            score (float): Detection score.\n",
    "            bbox (list of float): Bounding box with four elements [x, y, width, height].\n",
    "        '''\n",
    "        self.scores.append(score)\n",
    "        self.times.append(frame)\n",
    "        self.bboxes.append(bbox)\n",
    "\n",
    "    def append_feat(self, feat):\n",
    "        '''\n",
    "        Appends a feature vector to the tracklet.\n",
    "\n",
    "        Args:\n",
    "            feat (np.array): Feature vector of shape (512,).\n",
    "        '''\n",
    "        self.features.append(feat)\n",
    "\n",
    "    def extract(self, start, end):\n",
    "        '''\n",
    "        Extracts a subtrack from the tracklet between two indices.\n",
    "\n",
    "        Args:\n",
    "            start (int): Start index for the extraction.\n",
    "            end (int): End index for the extraction.\n",
    "\n",
    "        Returns:\n",
    "            Tracklet: A new Tracklet object that is a subset of the original from start to end indices.\n",
    "        '''\n",
    "        subtrack = Tracklet(self.track_id, self.times[start:end + 1], self.scores[start:end + 1], self.bboxes[start:end + 1], self.features[start:end + 1] if self.features else None)\n",
    "        return subtrack\n"
   ]
  },
  {
   "cell_type": "code",
   "execution_count": null,
   "metadata": {},
   "outputs": [],
   "source": [
    "# Load a tracklet file for a SportsMOT sequence\n",
    "sports_trklets_path = r\"C:\\Users\\Ciel Sun\\OneDrive - UW\\EE 599\\DeepEIoU\\deep-eiou-tmp\\Tracklets\\v_1UDUODIBSsc_c001.pkl\"\n",
    "with open(sports_trklets_path, 'rb') as pkl_f:\n",
    "    sports_tid2track = pickle.load(pkl_f)\n",
    "\n",
    "print(type(sports_tid2track))\n",
    "for i, (track_id, strack) in enumerate(sports_tid2track.items()):\n",
    "    print(track_id)\n",
    "    print(len(strack.times))\n",
    "    print(len(strack.bboxes))\n",
    "    print(np.array(strack.features).shape)\n",
    "    break\n",
    "\n"
   ]
  },
  {
   "cell_type": "code",
   "execution_count": 10,
   "metadata": {},
   "outputs": [
    {
     "name": "stdout",
     "output_type": "stream",
     "text": [
      "<class 'dict'>\n",
      "1.0\n",
      "308\n",
      "308\n",
      "(308, 512)\n"
     ]
    }
   ],
   "source": [
    "\n",
    "soccer_trklets_path = r\"C:\\Users\\Ciel Sun\\OneDrive - UW\\EE 599\\SportsMOT\\DeepEIoU_results\\DeepEIoU_Tracklets_test\\v_1UDUODIBSsc_c001.pkl\"\n",
    "with open(soccer_trklets_path, 'rb') as pkl_f:\n",
    "    soccer_tid2track = pickle.load(pkl_f)\n",
    "\n",
    "print(type(soccer_tid2track))\n",
    "for i, (track_id, tracklet) in enumerate(soccer_tid2track.items()):\n",
    "    print(track_id)\n",
    "    print(len(tracklet.times))\n",
    "    print(len(tracklet.bboxes))\n",
    "    print(np.array(tracklet.features).shape)\n",
    "    break"
   ]
  },
  {
   "cell_type": "code",
   "execution_count": 26,
   "metadata": {},
   "outputs": [
    {
     "name": "stdout",
     "output_type": "stream",
     "text": [
      "[[4 5 6]\n",
      " [7 8 9]]\n",
      "tensor([[1, 2, 3],\n",
      "        [4, 5, 6],\n",
      "        [7, 8, 9]], dtype=torch.int32)\n"
     ]
    },
    {
     "data": {
      "text/plain": [
       "4"
      ]
     },
     "execution_count": 26,
     "metadata": {},
     "output_type": "execute_result"
    }
   ],
   "source": [
    "import numpy as np\n",
    "import torch\n",
    "\n",
    "# Example list of numpy arrays\n",
    "array_list = [np.array([1, 2, 3]), np.array([4, 5, 6]), np.array([7, 8, 9])]\n",
    "\n",
    "# Combine the numpy arrays into one array\n",
    "combined_array = np.stack(array_list)\n",
    "\n",
    "labels = np.array([0, 1, 1])\n",
    "print(combined_array[labels == 1])\n",
    "\n",
    "# Convert the numpy array to a PyTorch tensor\n",
    "tensor = torch.from_numpy(combined_array)\n",
    "\n",
    "# Print the tensor\n",
    "print(tensor)\n",
    "\n",
    "\n",
    "a = np.array([[4, 5, 6, 6],  [2, 3, 4, 5]])\n",
    "np.argmin(np.array(a))"
   ]
  },
  {
   "cell_type": "code",
   "execution_count": 27,
   "metadata": {},
   "outputs": [
    {
     "name": "stdout",
     "output_type": "stream",
     "text": [
      "Index of maximum value: (1, 2)\n",
      "True\n"
     ]
    }
   ],
   "source": [
    "array_2d = np.array([[1, 2, 3], [4, 5, 6]])\n",
    "\n",
    "# Find the index of the maximum value\n",
    "max_index_flattened = np.argmax(array_2d)  # This returns the index in the flattened array\n",
    "max_index_2d = np.unravel_index(max_index_flattened, array_2d.shape)  # Convert to a tuple of indices for 2D\n",
    "\n",
    "print(\"Index of maximum value:\", max_index_2d)\n",
    "print(np.any(array_2d > 4))"
   ]
  },
  {
   "cell_type": "code",
   "execution_count": 29,
   "metadata": {},
   "outputs": [
    {
     "data": {
      "text/plain": [
       "array([1., 1., 1., 1., 1., 1., 1., 1., 1., 1., 1., 1.])"
      ]
     },
     "execution_count": 29,
     "metadata": {},
     "output_type": "execute_result"
    }
   ],
   "source": [
    "a = np.ones((4, 4))\n",
    "diagonal_mask = np.eye(a.shape[0], dtype=bool)\n",
    "non_diagonal_mask = ~diagonal_mask\n",
    "a[non_diagonal_mask]"
   ]
  },
  {
   "cell_type": "code",
   "execution_count": 1,
   "metadata": {},
   "outputs": [
    {
     "name": "stdout",
     "output_type": "stream",
     "text": [
      "True\n"
     ]
    }
   ],
   "source": [
    "seq_tracks_dir = r'C:\\Users\\Ciel Sun\\OneDrive - UW\\EE 599\\SportsMOT\\ByteTrack_results\\ByteTrack_Tracklets_test'\n",
    "\n",
    "print('SportsMOT' in seq_tracks_dir)"
   ]
  }
 ],
 "metadata": {
  "kernelspec": {
   "display_name": "TrackLink",
   "language": "python",
   "name": "python3"
  },
  "language_info": {
   "codemirror_mode": {
    "name": "ipython",
    "version": 3
   },
   "file_extension": ".py",
   "mimetype": "text/x-python",
   "name": "python",
   "nbconvert_exporter": "python",
   "pygments_lexer": "ipython3",
   "version": "3.8.19"
  }
 },
 "nbformat": 4,
 "nbformat_minor": 2
}
